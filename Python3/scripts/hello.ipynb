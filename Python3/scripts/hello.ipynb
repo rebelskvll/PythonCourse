{
 "cells": [
  {
   "cell_type": "markdown",
   "metadata": {},
   "source": [
    "# Hello curse"
   ]
  },
  {
   "cell_type": "code",
   "execution_count": 1,
   "metadata": {},
   "outputs": [
    {
     "name": "stdout",
     "output_type": "stream",
     "text": [
      "['False', 'None', 'True', 'and', 'as', 'assert', 'async', 'await', 'break', 'class', 'continue', 'def', 'del', 'elif', 'else', 'except', 'finally', 'for', 'from', 'global', 'if', 'import', 'in', 'is', 'lambda', 'nonlocal', 'not', 'or', 'pass', 'raise', 'return', 'try', 'while', 'with', 'yield']\n",
      "35\n",
      "The \"for\" statement\n",
      "*******************\n",
      "\n",
      "The \"for\" statement is used to iterate over the elements of a sequence\n",
      "(such as a string, tuple or list) or other iterable object:\n",
      "\n",
      "   for_stmt ::= \"for\" target_list \"in\" expression_list \":\" suite\n",
      "                [\"else\" \":\" suite]\n",
      "\n",
      "The expression list is evaluated once; it should yield an iterable\n",
      "object.  An iterator is created for the result of the\n",
      "\"expression_list\".  The suite is then executed once for each item\n",
      "provided by the iterator, in the order returned by the iterator.  Each\n",
      "item in turn is assigned to the target list using the standard rules\n",
      "for assignments (see Assignment statements), and then the suite is\n",
      "executed.  When the items are exhausted (which is immediately when the\n",
      "sequence is empty or an iterator raises a \"StopIteration\" exception),\n",
      "the suite in the \"else\" clause, if present, is executed, and the loop\n",
      "terminates.\n",
      "\n",
      "A \"break\" statement executed in the first suite terminates the loop\n",
      "without executing the \"else\" clause’s suite.  A \"continue\" statement\n",
      "executed in the first suite skips the rest of the suite and continues\n",
      "with the next item, or with the \"else\" clause if there is no next\n",
      "item.\n",
      "\n",
      "The for-loop makes assignments to the variables in the target list.\n",
      "This overwrites all previous assignments to those variables including\n",
      "those made in the suite of the for-loop:\n",
      "\n",
      "   for i in range(10):\n",
      "       print(i)\n",
      "       i = 5             # this will not affect the for-loop\n",
      "                         # because i will be overwritten with the next\n",
      "                         # index in the range\n",
      "\n",
      "Names in the target list are not deleted when the loop is finished,\n",
      "but if the sequence is empty, they will not have been assigned to at\n",
      "all by the loop.  Hint: the built-in type \"range()\" represents\n",
      "immutable arithmetic sequences of integers. For instance, iterating\n",
      "\"range(3)\" successively yields 0, 1, and then 2.\n",
      "\n",
      "Related help topics: break, continue, while\n",
      "\n"
     ]
    }
   ],
   "source": [
    "# -*- coding: utf-8 -*-\n",
    "# How many keywords are there?\n",
    "import keyword\n",
    "print(keyword.kwlist)\n",
    "print(len(keyword.kwlist))\n",
    "\n",
    "# Show the information of a reserved word\n",
    "help('for')"
   ]
  },
  {
   "cell_type": "code",
   "execution_count": 2,
   "metadata": {},
   "outputs": [
    {
     "name": "stdout",
     "output_type": "stream",
     "text": [
      "5\n",
      "132552604877168\n",
      "0x788e4eed8170\n",
      "28 bytes\n",
      "<class 'int'>\n",
      "True\n",
      "The variable does not exist\n"
     ]
    }
   ],
   "source": [
    "# Set the value of a variable\n",
    "x = 5\n",
    "\n",
    "# Get the value of a variable\n",
    "print(x)\n",
    "\n",
    "# Get the address of a variable\n",
    "print(id(x))\n",
    "\n",
    "# Get the memory address of a variable\n",
    "print(hex(id(x)))\n",
    "\n",
    "# Get the memory size of a variable\n",
    "import sys\n",
    "print(str(sys.getsizeof(x)) + \" bytes\")\n",
    "\n",
    "# Get the type of a variable\n",
    "print(type(x))\n",
    "\n",
    "# Evaluate the type of a variable\n",
    "print(isinstance(x, int))\n",
    "\n",
    "# Delete a variable\n",
    "del x\n",
    "\n",
    "# Check if a variable exists\n",
    "try:\n",
    "    print(x)\n",
    "except NameError:\n",
    "    print(\"The variable does not exist\")"
   ]
  },
  {
   "cell_type": "code",
   "execution_count": 3,
   "metadata": {},
   "outputs": [
    {
     "name": "stdout",
     "output_type": "stream",
     "text": [
      "Tu promedio es: 4.00\n",
      "Reprobado.\n"
     ]
    }
   ],
   "source": [
    "# Exercice 1\n",
    "# Calculate the average of three notes\n",
    "def average(numeros):\n",
    "    if len(numeros) == 0:\n",
    "        return 0\n",
    "    return sum(numeros) / len(numeros)\n",
    "\n",
    "notas = []\n",
    "for i in range(3):\n",
    "    nota = float(input(f\"Ingresa la nota {i+1}: \"))\n",
    "    notas.append(nota)\n",
    "\n",
    "promedio = average(notas)\n",
    "print(f\"Tu promedio es: {promedio:.2f}\")\n",
    "\n",
    "if promedio >= 7:\n",
    "    print(\"¡Aprobado!\")\n",
    "else:\n",
    "    print(\"Reprobado.\")"
   ]
  },
  {
   "cell_type": "code",
   "execution_count": 4,
   "metadata": {},
   "outputs": [
    {
     "name": "stdout",
     "output_type": "stream",
     "text": [
      "-5\n",
      "-4\n",
      "-3\n",
      "-2\n",
      "-1\n",
      "0\n",
      "1\n",
      "2\n",
      "3\n",
      "4\n",
      "5\n",
      "6\n",
      "7\n",
      "8\n",
      "9\n"
     ]
    }
   ],
   "source": [
    "10 // 3\n",
    "\n",
    "x = -5\n",
    "while x < 10:\n",
    "  print(x)\n",
    "  x += 1"
   ]
  }
 ],
 "metadata": {
  "kernelspec": {
   "display_name": "Python 3",
   "language": "python",
   "name": "python3"
  },
  "language_info": {
   "codemirror_mode": {
    "name": "ipython",
    "version": 3
   },
   "file_extension": ".py",
   "mimetype": "text/x-python",
   "name": "python",
   "nbconvert_exporter": "python",
   "pygments_lexer": "ipython3",
   "version": "3.10.12"
  }
 },
 "nbformat": 4,
 "nbformat_minor": 2
}
